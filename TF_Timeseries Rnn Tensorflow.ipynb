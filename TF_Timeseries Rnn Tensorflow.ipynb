{
 "cells": [
  {
   "cell_type": "code",
   "execution_count": 1,
   "metadata": {},
   "outputs": [
    {
     "name": "stderr",
     "output_type": "stream",
     "text": [
      "/Users/suvarnasundarakrishnan/anaconda3/lib/python3.6/site-packages/h5py/__init__.py:36: FutureWarning: Conversion of the second argument of issubdtype from `float` to `np.floating` is deprecated. In future, it will be treated as `np.float64 == np.dtype(float).type`.\n",
      "  from ._conv import register_converters as _register_converters\n"
     ]
    }
   ],
   "source": [
    "import tensorflow as tf\n",
    "import numpy as np\n",
    "import pandas as pd\n",
    "import matplotlib\n",
    "import matplotlib.pyplot as plt\n",
    "import random\n",
    "%matplotlib inline\n",
    "import shutil\n",
    "import tensorflow.contrib.learn as tflearn\n",
    "import tensorflow.contrib.layers as tflayers\n",
    "import tensorflow.contrib.metrics as metrics\n",
    "from tensorflow.contrib.learn.python.learn import learn_runner\n",
    "import tensorflow.contrib.rnn as rnn\n"
   ]
  },
  {
   "cell_type": "code",
   "execution_count": 2,
   "metadata": {},
   "outputs": [
    {
     "data": {
      "text/plain": [
       "'1.10.0'"
      ]
     },
     "execution_count": 2,
     "metadata": {},
     "output_type": "execute_result"
    }
   ],
   "source": [
    "tf.__version__"
   ]
  },
  {
   "cell_type": "code",
   "execution_count": 3,
   "metadata": {},
   "outputs": [],
   "source": [
    "random.seed(10000)"
   ]
  },
  {
   "cell_type": "code",
   "execution_count": 15,
   "metadata": {},
   "outputs": [],
   "source": [
    "timeseriesrng=pd.date_range(start='2015',periods=1001,frequency='D')"
   ]
  },
  {
   "cell_type": "code",
   "execution_count": 16,
   "metadata": {},
   "outputs": [
    {
     "data": {
      "image/png": "[encoded data removed]",
      "text/plain": [
       "<matplotlib.figure.Figure at 0x1c3ed5aa20>"
      ]
     },
     "metadata": {},
     "output_type": "display_data"
    },
    {
     "data": {
      "text/plain": [
       "2015-01-01    54.414401\n",
       "2015-01-02    28.004128\n",
       "2015-01-03    25.105290\n",
       "2015-01-04    95.843563\n",
       "2015-01-05     2.437729\n",
       "2015-01-06    81.367658\n",
       "2015-01-07    21.492525\n",
       "2015-01-08    22.827160\n",
       "2015-01-09    42.981304\n",
       "2015-01-10    98.528285\n",
       "2015-01-11    90.653490\n",
       "2015-01-12    79.564322\n",
       "2015-01-13    14.160567\n",
       "2015-01-14     3.760587\n",
       "2015-01-15     2.232228\n",
       "2015-01-16     8.225600\n",
       "2015-01-17    91.713512\n",
       "2015-01-18    41.019850\n",
       "2015-01-19    26.645213\n",
       "2015-01-20    54.008789\n",
       "Freq: D, dtype: float64"
      ]
     },
     "execution_count": 16,
     "metadata": {},
     "output_type": "execute_result"
    }
   ],
   "source": [
    "timeseriesdata = pd.Series(np.random.uniform(1,100,size=len(timeseriesrng)),timeseriesrng)\n",
    "timeseriesdata.plot(c='b',title = 'Invoice Time Series Data')\n",
    "plt.show()\n",
    "timeseriesdata.head(20)\n",
    "\n"
   ]
  },
  {
   "cell_type": "code",
   "execution_count": 17,
   "metadata": {},
   "outputs": [
    {
     "name": "stdout",
     "output_type": "stream",
     "text": [
      "50\n",
      "(50, 20, 1)\n",
      "[[[54.41440057]\n",
      "  [28.00412767]\n",
      "  [25.10529021]\n",
      "  [95.8435629 ]\n",
      "  [ 2.43772861]\n",
      "  [81.36765831]\n",
      "  [21.4925253 ]\n",
      "  [22.82716042]\n",
      "  [42.98130378]\n",
      "  [98.52828535]\n",
      "  [90.65348969]\n",
      "  [79.5643217 ]\n",
      "  [14.16056747]\n",
      "  [ 3.76058656]\n",
      "  [ 2.23222843]\n",
      "  [ 8.22559993]\n",
      "  [91.71351173]\n",
      "  [41.01984983]\n",
      "  [26.64521288]\n",
      "  [54.00878859]]\n",
      "\n",
      " [[14.61690241]\n",
      "  [54.36224484]\n",
      "  [66.4794828 ]\n",
      "  [81.73903344]\n",
      "  [86.32196619]\n",
      "  [22.55189553]\n",
      "  [50.82112326]\n",
      "  [69.34984708]\n",
      "  [28.83974575]\n",
      "  [ 5.20202977]\n",
      "  [86.30060006]\n",
      "  [15.40892463]\n",
      "  [51.54202843]\n",
      "  [38.11695399]\n",
      "  [ 4.27579277]\n",
      "  [ 4.19293762]\n",
      "  [37.12317598]\n",
      "  [89.72720898]\n",
      "  [85.78982897]\n",
      "  [97.00374824]]]\n",
      "[[[28.00412767]\n",
      "  [25.10529021]\n",
      "  [95.8435629 ]\n",
      "  [ 2.43772861]\n",
      "  [81.36765831]\n",
      "  [21.4925253 ]\n",
      "  [22.82716042]\n",
      "  [42.98130378]\n",
      "  [98.52828535]\n",
      "  [90.65348969]\n",
      "  [79.5643217 ]\n",
      "  [14.16056747]\n",
      "  [ 3.76058656]\n",
      "  [ 2.23222843]\n",
      "  [ 8.22559993]\n",
      "  [91.71351173]\n",
      "  [41.01984983]\n",
      "  [26.64521288]\n",
      "  [54.00878859]\n",
      "  [14.61690241]]]\n",
      "(50, 20, 1)\n"
     ]
    }
   ],
   "source": [
    "TS = np.array(timeseriesdata)\n",
    "num_periods = 20\n",
    "f_horizon = 1\n",
    "x_data  = TS[:(len(TS)-(len(TS) % num_periods))]\n",
    "x_values = x_data.reshape(-1,20,1)\n",
    "y_data = TS[1:(len(TS)-(len(TS) % num_periods))+f_horizon]\n",
    "y_batches = y_data.reshape(-1,20,1)\n",
    "print (len(x_values))\n",
    "print (x_values.shape)\n",
    "print (x_values[0:2])\n",
    "\n",
    "print(y_batches[0:1])\n",
    "print(y_batches.shape)"
   ]
  },
  {
   "cell_type": "code",
   "execution_count": 18,
   "metadata": {},
   "outputs": [
    {
     "name": "stdout",
     "output_type": "stream",
     "text": [
      "(1, 20, 1)\n",
      "[[[42.07330237]\n",
      "  [28.96629951]\n",
      "  [64.45877776]\n",
      "  [17.02884988]\n",
      "  [90.48906542]\n",
      "  [86.7524265 ]\n",
      "  [54.83348257]\n",
      "  [55.84728024]\n",
      "  [48.76542082]\n",
      "  [23.51438597]\n",
      "  [87.33278466]\n",
      "  [76.59914985]\n",
      "  [83.69788194]\n",
      "  [58.17279728]\n",
      "  [82.95110039]\n",
      "  [47.87453831]\n",
      "  [81.61998522]\n",
      "  [67.74326085]\n",
      "  [57.27484512]\n",
      "  [23.42726913]]]\n"
     ]
    }
   ],
   "source": [
    "def test_data(series,forecast,num_periods):\n",
    "    test_x_setup = TS[-(num_periods + forecast):]\n",
    "    testX = test_x_setup[:num_periods].reshape(-1,20,1)\n",
    "    testY = TS[-(num_periods):].reshape(-1,20,1)\n",
    "    return testX,testY\n",
    "X_test,Y_test = test_data(TS,f_horizon,num_periods)\n",
    "print (X_test.shape)\n",
    "print (X_test)"
   ]
  },
  {
   "cell_type": "code",
   "execution_count": 19,
   "metadata": {},
   "outputs": [],
   "source": [
    "\n",
    "tf.reset_default_graph()\n",
    "num_periods = 20\n",
    "inputs =1\n",
    "hidden =100\n",
    "output = 1\n",
    "X=tf.placeholder(tf.float32, [None,num_periods,inputs])\n",
    "Y=tf.placeholder(tf.float32, [None, num_periods, output])\n",
    "\n",
    "basic_cell = tf.contrib.rnn.BasicRNNCell(num_units=hidden, activation = tf.nn.relu)\n",
    "rnn_output,states = tf.nn.dynamic_rnn(basic_cell,X,dtype=tf.float32)\n",
    "\n",
    "learning_rate = 0.001\n",
    "stacked_rnn_output = tf.reshape(rnn_output,[-1,hidden])\n",
    "stacked_outputs = tf.layers.dense(stacked_rnn_output,output)\n",
    "outputs = tf.reshape(stacked_outputs, [-1,num_periods,output])\n",
    "\n",
    "loss = tf.reduce_sum(tf.square(outputs-Y))\n",
    "optimizer = tf.train.AdamOptimizer(learning_rate=learning_rate)\n",
    "training_op = optimizer.minimize(loss)\n",
    "init = tf.global_variables_initializer()\n"
   ]
  },
  {
   "cell_type": "code",
   "execution_count": 20,
   "metadata": {},
   "outputs": [
    {
     "name": "stdout",
     "output_type": "stream",
     "text": [
      "0 \\MSE: 3163409.5\n",
      "100 \\MSE: 926290.6\n",
      "200 \\MSE: 843060.0\n",
      "300 \\MSE: 830078.5\n",
      "400 \\MSE: 723387.1\n",
      "500 \\MSE: 691805.9\n",
      "600 \\MSE: 503585.84\n",
      "700 \\MSE: 538048.56\n",
      "800 \\MSE: 402895.03\n",
      "900 \\MSE: 489837.44\n",
      "1000 \\MSE: 322854.75\n",
      "1100 \\MSE: 300481.4\n",
      "1200 \\MSE: 302165.8\n",
      "1300 \\MSE: 272345.22\n",
      "1400 \\MSE: 255578.23\n",
      "1500 \\MSE: 247432.67\n",
      "1600 \\MSE: 287557.94\n",
      "1700 \\MSE: 227484.31\n",
      "1800 \\MSE: 219069.38\n",
      "1900 \\MSE: 221640.34\n",
      "2000 \\MSE: 212559.94\n",
      "2100 \\MSE: 204958.6\n",
      "2200 \\MSE: 197031.05\n",
      "2300 \\MSE: 195585.75\n",
      "2400 \\MSE: 189335.62\n",
      "2500 \\MSE: 184299.02\n",
      "2600 \\MSE: 241531.94\n",
      "2700 \\MSE: 176802.47\n",
      "2800 \\MSE: 172910.12\n",
      "2900 \\MSE: 172813.84\n",
      "3000 \\MSE: 164462.86\n",
      "3100 \\MSE: 172689.98\n",
      "3200 \\MSE: 162325.62\n",
      "3300 \\MSE: 158361.12\n",
      "3400 \\MSE: 156298.31\n",
      "3500 \\MSE: 151356.62\n",
      "3600 \\MSE: 148134.47\n",
      "3700 \\MSE: 144958.17\n",
      "3800 \\MSE: 142828.83\n",
      "3900 \\MSE: 139680.97\n",
      "4000 \\MSE: 153253.78\n",
      "4100 \\MSE: 134980.95\n",
      "4200 \\MSE: 132203.48\n",
      "4300 \\MSE: 129744.07\n",
      "4400 \\MSE: 127265.58\n",
      "4500 \\MSE: 124753.266\n",
      "4600 \\MSE: 133797.06\n",
      "4700 \\MSE: 125051.516\n",
      "4800 \\MSE: 121787.97\n",
      "4900 \\MSE: 119509.22\n",
      "5000 \\MSE: 117477.836\n",
      "5100 \\MSE: 115878.4\n",
      "5200 \\MSE: 113824.02\n",
      "5300 \\MSE: 112070.36\n",
      "5400 \\MSE: 110504.52\n",
      "5500 \\MSE: 108735.28\n",
      "5600 \\MSE: 107460.484\n",
      "5700 \\MSE: 168849.88\n",
      "5800 \\MSE: 105767.44\n",
      "5900 \\MSE: 104087.09\n",
      "6000 \\MSE: 102818.6\n",
      "6100 \\MSE: 101575.19\n",
      "6200 \\MSE: 100788.29\n",
      "6300 \\MSE: 99341.484\n",
      "6400 \\MSE: 98288.02\n",
      "6500 \\MSE: 97644.28\n",
      "6600 \\MSE: 96281.31\n",
      "6700 \\MSE: 95505.875\n",
      "6800 \\MSE: 94835.35\n",
      "6900 \\MSE: 94525.7\n",
      "7000 \\MSE: 92767.484\n",
      "7100 \\MSE: 91906.59\n",
      "7200 \\MSE: 91322.18\n",
      "7300 \\MSE: 103904.66\n",
      "7400 \\MSE: 90107.17\n",
      "7500 \\MSE: 89216.11\n",
      "7600 \\MSE: 88544.14\n",
      "7700 \\MSE: 87934.28\n",
      "7800 \\MSE: 87146.29\n",
      "7900 \\MSE: 86496.15\n",
      "8000 \\MSE: 85961.74\n",
      "8100 \\MSE: 94697.14\n",
      "8200 \\MSE: 85069.17\n",
      "8300 \\MSE: 84198.28\n",
      "8400 \\MSE: 83738.87\n",
      "8500 \\MSE: 83168.81\n",
      "8600 \\MSE: 82426.96\n",
      "8700 \\MSE: 94337.1\n",
      "8800 \\MSE: 84819.3\n",
      "8900 \\MSE: 82966.03\n",
      "9000 \\MSE: 82042.39\n",
      "9100 \\MSE: 81350.02\n",
      "9200 \\MSE: 80778.6\n",
      "9300 \\MSE: 80276.055\n",
      "9400 \\MSE: 79787.14\n",
      "9500 \\MSE: 79431.95\n",
      "9600 \\MSE: 78890.64\n",
      "9700 \\MSE: 78471.945\n",
      "9800 \\MSE: 78092.46\n",
      "9900 \\MSE: 77758.984\n",
      "[[[50.421112]\n",
      "  [60.30276 ]\n",
      "  [56.23235 ]\n",
      "  [89.28129 ]\n",
      "  [87.13888 ]\n",
      "  [55.027573]\n",
      "  [56.141407]\n",
      "  [49.185425]\n",
      "  [23.582186]\n",
      "  [87.232   ]\n",
      "  [76.55896 ]\n",
      "  [83.58894 ]\n",
      "  [58.060043]\n",
      "  [83.15135 ]\n",
      "  [47.79033 ]\n",
      "  [81.62071 ]\n",
      "  [67.75549 ]\n",
      "  [57.340565]\n",
      "  [23.690687]\n",
      "  [31.375803]]]\n"
     ]
    }
   ],
   "source": [
    "epochs = 10000\n",
    "with tf.Session() as sess:\n",
    "    init.run()\n",
    "    for ep in range(epochs):\n",
    "        sess.run(training_op, feed_dict = {X:x_batches,Y: y_batches})\n",
    "        if ep%100 ==0:\n",
    "                mse = loss.eval(feed_dict={X:x_batches,Y:y_batches})\n",
    "                print(ep, \"\\MSE:\",mse)\n",
    "    y_pred = sess.run(outputs,feed_dict={X: X_test})\n",
    "    print(y_pred)"
   ]
  },
  {
   "cell_type": "code",
   "execution_count": 21,
   "metadata": {},
   "outputs": [
    {
     "data": {
      "image/png": "[encoded data removed]",
      "text/plain": [
       "<matplotlib.figure.Figure at 0x1c41569710>"
      ]
     },
     "metadata": {},
     "output_type": "display_data"
    }
   ],
   "source": [
    "plt.title(\"Forecast Vs Actual\", fontsize=14)\n",
    "plt.plot(pd.Series(np.ravel(Y_test)),\"bo\",markersize = 10, label = \"Actual\")\n",
    "#plt.plot(pd.Series(np.ravel(Y_test)),\"w*\",markersize = 10)\n",
    "\n",
    "plt.plot(pd.Series(np.ravel(y_pred)),\"r.\",markersize = 10, label = \"Forecast\")\n",
    "plt.legend(loc= \"upper left\")\n",
    "plt.xlabel(\"Time periods\")\n",
    "plt.show()"
   ]
  },
  {
   "cell_type": "code",
   "execution_count": 22,
   "metadata": {},
   "outputs": [],
   "source": [
    "fcst=pd.Series(np.ravel(y_pred))\n",
    "act=pd.Series(np.ravel(Y_test))"
   ]
  },
  {
   "cell_type": "code",
   "execution_count": 23,
   "metadata": {},
   "outputs": [
    {
     "data": {
      "image/png": "[encoded data removed]",
      "text/plain": [
       "<matplotlib.figure.Figure at 0x1c4155d2e8>"
      ]
     },
     "metadata": {},
     "output_type": "display_data"
    }
   ],
   "source": [
    "\n",
    "fcst.plot(c='b',title = 'Invoices Time Series')\n",
    "act.plot(c='r')\n",
    "\n",
    "plt.show()\n",
    "sess.close()"
   ]
  },
  {
   "cell_type": "code",
   "execution_count": null,
   "metadata": {},
   "outputs": [],
   "source": []
  },
  {
   "cell_type": "code",
   "execution_count": null,
   "metadata": {},
   "outputs": [],
   "source": []
  },
  {
   "cell_type": "code",
   "execution_count": null,
   "metadata": {},
   "outputs": [],
   "source": []
  },
  {
   "cell_type": "code",
   "execution_count": null,
   "metadata": {},
   "outputs": [],
   "source": []
  },
  {
   "cell_type": "code",
   "execution_count": null,
   "metadata": {},
   "outputs": [],
   "source": []
  }
 ],
 "metadata": {
  "kernelspec": {
   "display_name": "Python 3",
   "language": "python",
   "name": "python3"
  },
  "language_info": {
   "codemirror_mode": {
    "name": "ipython",
    "version": 3
   },
   "file_extension": ".py",
   "mimetype": "text/x-python",
   "name": "python",
   "nbconvert_exporter": "python",
   "pygments_lexer": "ipython3",
   "version": "3.6.4"
  }
 },
 "nbformat": 4,
 "nbformat_minor": 2
}
