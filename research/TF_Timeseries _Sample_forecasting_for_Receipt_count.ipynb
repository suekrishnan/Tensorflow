{
 "cells": [
  {
   "cell_type": "code",
   "execution_count": 21,
   "metadata": {},
   "outputs": [],
   "source": [
    "import tensorflow as tf\n",
    "import numpy as np\n",
    "import pandas as pd\n",
    "import matplotlib\n",
    "import matplotlib.pyplot as plt\n",
    "import random\n",
    "%matplotlib inline\n",
    "import shutil\n",
    "import tensorflow.contrib.learn as tflearn\n",
    "import tensorflow.contrib.layers as tflayers\n",
    "import tensorflow.contrib.metrics as metrics\n",
    "from tensorflow.contrib.learn.python.learn import learn_runner\n",
    "import tensorflow.contrib.rnn as rnn\n"
   ]
  },
  {
   "cell_type": "code",
   "execution_count": 22,
   "metadata": {},
   "outputs": [
    {
     "data": {
      "text/plain": [
       "'1.10.0'"
      ]
     },
     "execution_count": 22,
     "metadata": {},
     "output_type": "execute_result"
    }
   ],
   "source": [
    "tf.__version__"
   ]
  },
  {
   "cell_type": "code",
   "execution_count": 24,
   "metadata": {},
   "outputs": [
    {
     "name": "stdout",
     "output_type": "stream",
     "text": [
      "/Users/suvarnasundarakrishnan/research\n"
     ]
    },
    {
     "data": {
      "text/html": [
       "<div>\n",
       "<style scoped>\n",
       "    .dataframe tbody tr th:only-of-type {\n",
       "        vertical-align: middle;\n",
       "    }\n",
       "\n",
       "    .dataframe tbody tr th {\n",
       "        vertical-align: top;\n",
       "    }\n",
       "\n",
       "    .dataframe thead th {\n",
       "        text-align: right;\n",
       "    }\n",
       "</style>\n",
       "<table border=\"1\" class=\"dataframe\">\n",
       "  <thead>\n",
       "    <tr style=\"text-align: right;\">\n",
       "      <th></th>\n",
       "      <th>LOCATION</th>\n",
       "      <th>DATE</th>\n",
       "      <th>Datacount</th>\n",
       "      <th>dayofweek</th>\n",
       "      <th>party</th>\n",
       "      <th>lastwkavg</th>\n",
       "      <th>wk1wk2</th>\n",
       "      <th>wk1wk3</th>\n",
       "    </tr>\n",
       "  </thead>\n",
       "  <tbody>\n",
       "    <tr>\n",
       "      <th>0</th>\n",
       "      <td>X31</td>\n",
       "      <td>2012-07-02</td>\n",
       "      <td>126</td>\n",
       "      <td>2</td>\n",
       "      <td>0</td>\n",
       "      <td>103.666667</td>\n",
       "      <td>0.968847</td>\n",
       "      <td>1.040134</td>\n",
       "    </tr>\n",
       "    <tr>\n",
       "      <th>1</th>\n",
       "      <td>X31</td>\n",
       "      <td>2012-07-03</td>\n",
       "      <td>103</td>\n",
       "      <td>3</td>\n",
       "      <td>0</td>\n",
       "      <td>103.666667</td>\n",
       "      <td>0.968847</td>\n",
       "      <td>1.040134</td>\n",
       "    </tr>\n",
       "    <tr>\n",
       "      <th>2</th>\n",
       "      <td>X31</td>\n",
       "      <td>2012-07-05</td>\n",
       "      <td>118</td>\n",
       "      <td>5</td>\n",
       "      <td>0</td>\n",
       "      <td>103.666667</td>\n",
       "      <td>0.968847</td>\n",
       "      <td>1.040134</td>\n",
       "    </tr>\n",
       "    <tr>\n",
       "      <th>3</th>\n",
       "      <td>X31</td>\n",
       "      <td>2012-07-06</td>\n",
       "      <td>111</td>\n",
       "      <td>6</td>\n",
       "      <td>0</td>\n",
       "      <td>103.666667</td>\n",
       "      <td>0.968847</td>\n",
       "      <td>1.040134</td>\n",
       "    </tr>\n",
       "    <tr>\n",
       "      <th>4</th>\n",
       "      <td>X31</td>\n",
       "      <td>2012-07-07</td>\n",
       "      <td>114</td>\n",
       "      <td>7</td>\n",
       "      <td>0</td>\n",
       "      <td>103.666667</td>\n",
       "      <td>0.968847</td>\n",
       "      <td>1.040134</td>\n",
       "    </tr>\n",
       "  </tbody>\n",
       "</table>\n",
       "</div>"
      ],
      "text/plain": [
       "  LOCATION       DATE  Datacount  dayofweek  party   lastwkavg    wk1wk2  \\\n",
       "0      X31 2012-07-02        126          2      0  103.666667  0.968847   \n",
       "1      X31 2012-07-03        103          3      0  103.666667  0.968847   \n",
       "2      X31 2012-07-05        118          5      0  103.666667  0.968847   \n",
       "3      X31 2012-07-06        111          6      0  103.666667  0.968847   \n",
       "4      X31 2012-07-07        114          7      0  103.666667  0.968847   \n",
       "\n",
       "     wk1wk3  \n",
       "0  1.040134  \n",
       "1  1.040134  \n",
       "2  1.040134  \n",
       "3  1.040134  \n",
       "4  1.040134  "
      ]
     },
     "execution_count": 24,
     "metadata": {},
     "output_type": "execute_result"
    }
   ],
   "source": [
    "import os\n",
    "cwd = os.getcwd()\n",
    "print(cwd)\n",
    "invoice_df = pd.read_excel(cwd+\"/Sample_data.xls\")\n",
    "invoice_df.head(5)"
   ]
  },
  {
   "cell_type": "code",
   "execution_count": 32,
   "metadata": {},
   "outputs": [
    {
     "data": {
      "image/png": "[encoded data removed]",
      "text/plain": [
       "<matplotlib.figure.Figure at 0x1c4296c550>"
      ]
     },
     "metadata": {},
     "output_type": "display_data"
    }
   ],
   "source": [
    "subset_df = invoice_df.loc[invoice_df['LOCATION'] == 'X31']\n",
    "start_date = '20120702'\n",
    "end_date = '20171231'\n",
    "final_df= subset_df[['DATE','Datacount']]\n",
    "dayofweekdf = subset_df[['dayofweek','Datacount']]\n",
    "timeseriesdata = final_df[['Datacount']]\n",
    "\n",
    "#timeseriesdata = final_df[(final_df['CSLDATE'] >= start_date) & (final_df['CSLDATE'] <= end_date)]\n",
    "#timeseriesdata.plot(c='b',title = 'Invoice Time Series Data')\n",
    "#plt.show()\n",
    "\n",
    "timeseriesdata.tail(20)\n",
    "plt.figure()\n",
    "plt.plot('DATE','Datacount', data = final_df, marker='', color='olive', linewidth=2)\n",
    "plt.legend()\n",
    "#plt.xlabel('Date')\n",
    "plt.ylabel('Data Count')\n",
    "plt.show()"
   ]
  },
  {
   "cell_type": "code",
   "execution_count": 33,
   "metadata": {},
   "outputs": [
    {
     "name": "stdout",
     "output_type": "stream",
     "text": [
      "1\n",
      "(1, 30, 2)\n",
      "[[[  2 126]\n",
      "  [  3 103]\n",
      "  [  5 118]\n",
      "  [  6 111]\n",
      "  [  7 114]\n",
      "  [  2 114]\n",
      "  [  3  90]\n",
      "  [  4  96]\n",
      "  [  5  94]\n",
      "  [  6 123]\n",
      "  [  7 103]\n",
      "  [  2 109]\n",
      "  [  3 107]\n",
      "  [  4  99]\n",
      "  [  5  94]\n",
      "  [  6  93]\n",
      "  [  7 119]\n",
      "  [  2  78]\n",
      "  [  3  78]\n",
      "  [  4  92]\n",
      "  [  5  94]\n",
      "  [  6  94]\n",
      "  [  7 120]\n",
      "  [  2  97]\n",
      "  [  3 104]\n",
      "  [  4  90]\n",
      "  [  5  86]\n",
      "  [  6 105]\n",
      "  [  7  99]\n",
      "  [  2 117]]]\n",
      "[[[  3 103]\n",
      "  [  5 118]\n",
      "  [  6 111]\n",
      "  [  7 114]\n",
      "  [  2 114]\n",
      "  [  3  90]\n",
      "  [  4  96]\n",
      "  [  5  94]\n",
      "  [  6 123]\n",
      "  [  7 103]\n",
      "  [  2 109]\n",
      "  [  3 107]\n",
      "  [  4  99]\n",
      "  [  5  94]\n",
      "  [  6  93]\n",
      "  [  7 119]\n",
      "  [  2  78]\n",
      "  [  3  78]\n",
      "  [  4  92]\n",
      "  [  5  94]\n",
      "  [  6  94]\n",
      "  [  7 120]\n",
      "  [  2  97]\n",
      "  [  3 104]\n",
      "  [  4  90]\n",
      "  [  5  86]\n",
      "  [  6 105]\n",
      "  [  7  99]\n",
      "  [  2 117]\n",
      "  [  3 102]]]\n",
      "(1, 30, 2)\n",
      "1788\n"
     ]
    }
   ],
   "source": [
    "TS = np.array(dayofweekdf)\n",
    "num_periods = 30\n",
    "f_horizon = 1\n",
    "#x_data  = TS[:(len(TS)-(len(TS) % num_periods))]\n",
    "x_data  = TS[:30]\n",
    "x_batches = x_data.reshape(-1,30,2)\n",
    "#y_data = TS[1:(len(TS)-(len(TS) % num_periods))+f_horizon]\n",
    "y_data = TS[1:31]\n",
    "y_batches = y_data.reshape(-1,30,2)\n",
    "print (len(x_batches))\n",
    "print (x_batches.shape)\n",
    "print (x_batches[0:2])\n",
    "\n",
    "print(y_batches[0:1])\n",
    "print(y_batches.shape)\n",
    "\n",
    "print(len(TS))"
   ]
  },
  {
   "cell_type": "code",
   "execution_count": 34,
   "metadata": {},
   "outputs": [
    {
     "name": "stdout",
     "output_type": "stream",
     "text": [
      "(1, 30, 2)\n",
      "(2, 30, 1)\n",
      "(1, 30, 2)\n",
      "[[[  4  78]\n",
      "  [  5  69]\n",
      "  [  6  93]\n",
      "  [  7 109]\n",
      "  [  2  95]\n",
      "  [  3 103]\n",
      "  [  4  88]\n",
      "  [  5  79]\n",
      "  [  6  87]\n",
      "  [  7 101]\n",
      "  [  2  91]\n",
      "  [  3 113]\n",
      "  [  4  89]\n",
      "  [  5  89]\n",
      "  [  6  79]\n",
      "  [  7  89]\n",
      "  [  2 100]\n",
      "  [  3  78]\n",
      "  [  4  71]\n",
      "  [  5  82]\n",
      "  [  6  94]\n",
      "  [  7  96]\n",
      "  [  2 121]\n",
      "  [  3 101]\n",
      "  [  4  79]\n",
      "  [  5 106]\n",
      "  [  6  88]\n",
      "  [  7  66]\n",
      "  [  2 113]\n",
      "  [  3  91]]]\n",
      "(2, 30, 1)\n"
     ]
    }
   ],
   "source": [
    "def test_data(series,forecast,num_periods):\n",
    "    test_x_setup = TS[-(num_periods + forecast):]\n",
    "    testX = test_x_setup[:num_periods].reshape(-1,30,2)\n",
    "    testY = TS[-(num_periods):].reshape(-1,30,1)\n",
    "    print(testX.shape)\n",
    "    print(testY.shape)\n",
    "    return testX,testY\n",
    "X_test,Y_test = test_data(TS,f_horizon,num_periods)\n",
    "print (X_test.shape)\n",
    "print (X_test)\n",
    "print (Y_test.shape)"
   ]
  },
  {
   "cell_type": "code",
   "execution_count": 35,
   "metadata": {},
   "outputs": [
    {
     "name": "stdout",
     "output_type": "stream",
     "text": [
      "Tensor(\"Placeholder:0\", shape=(1, 30, 2), dtype=float32)\n",
      "Tensor(\"Placeholder_1:0\", shape=(1, 30, 2), dtype=float32)\n"
     ]
    }
   ],
   "source": [
    "\n",
    "tf.reset_default_graph()\n",
    "num_periods = 30\n",
    "inputs =2\n",
    "hidden =100\n",
    "output = 2\n",
    "X=tf.placeholder(tf.float32, [1,num_periods,inputs])\n",
    "Y=tf.placeholder(tf.float32, [1, num_periods, output])\n",
    "\n",
    "#x = tf.placeholder(tf.float32, shape=[None, 2])\n",
    "#y_ = tf.placeholder(tf.float32, shape=[None, 2])\n",
    "basic_cell = tf.contrib.rnn.BasicRNNCell(num_units=hidden, activation = tf.nn.relu)\n",
    "rnn_output,states = tf.nn.dynamic_rnn(basic_cell,X,dtype=tf.float32)\n",
    "\n",
    "learning_rate = 0.0001\n",
    "stacked_rnn_output = tf.reshape(rnn_output,[-1,hidden])\n",
    "stacked_outputs = tf.layers.dense(stacked_rnn_output,output)\n",
    "outputs = tf.reshape(stacked_outputs, [-1,num_periods,output])\n",
    "\n",
    "loss = tf.reduce_sum(tf.square(outputs-Y))\n",
    "optimizer = tf.train.AdamOptimizer(learning_rate=learning_rate)\n",
    "training_op = optimizer.minimize(loss)\n",
    "init = tf.global_variables_initializer()\n",
    "print(X)\n",
    "print(Y)"
   ]
  },
  {
   "cell_type": "code",
   "execution_count": 36,
   "metadata": {},
   "outputs": [
    {
     "name": "stdout",
     "output_type": "stream",
     "text": [
      "0 \\MSE: 400267.94\n",
      "100 \\MSE: 59076.5\n",
      "200 \\MSE: 22986.58\n",
      "300 \\MSE: 18205.947\n",
      "400 \\MSE: 15089.27\n",
      "500 \\MSE: 12745.226\n",
      "600 \\MSE: 10943.627\n",
      "700 \\MSE: 9238.683\n",
      "800 \\MSE: 7698.0195\n",
      "900 \\MSE: 6344.08\n",
      "1000 \\MSE: 5348.507\n",
      "1100 \\MSE: 4360.587\n",
      "1200 \\MSE: 3572.5051\n",
      "1300 \\MSE: 2991.2937\n",
      "1400 \\MSE: 2508.764\n",
      "1500 \\MSE: 2092.008\n",
      "1600 \\MSE: 1721.3451\n",
      "1700 \\MSE: 1393.4194\n",
      "1800 \\MSE: 1108.4402\n",
      "1900 \\MSE: 864.8356\n",
      "2000 \\MSE: 659.93304\n",
      "2100 \\MSE: 492.23877\n",
      "2200 \\MSE: 358.36514\n",
      "2300 \\MSE: 254.59499\n",
      "2400 \\MSE: 176.12402\n",
      "2500 \\MSE: 118.386444\n",
      "2600 \\MSE: 77.23378\n",
      "2700 \\MSE: 48.835907\n",
      "2800 \\MSE: 29.902876\n",
      "2900 \\MSE: 17.715496\n",
      "3000 \\MSE: 10.136969\n",
      "3100 \\MSE: 5.6009846\n",
      "3200 \\MSE: 2.985587\n",
      "3300 \\MSE: 1.5345612\n",
      "3400 \\MSE: 0.76036876\n",
      "3500 \\MSE: 0.36294147\n",
      "3600 \\MSE: 0.16705061\n",
      "3700 \\MSE: 0.074217096\n",
      "3800 \\MSE: 0.03190166\n",
      "3900 \\MSE: 0.013310056\n",
      "4000 \\MSE: 0.0054486077\n",
      "4100 \\MSE: 0.002197936\n",
      "4200 \\MSE: 0.0009055554\n",
      "4300 \\MSE: 0.0003976748\n",
      "4400 \\MSE: 0.00019566165\n",
      "4500 \\MSE: 7.107896e-05\n",
      "4600 \\MSE: 0.0046579037\n",
      "4700 \\MSE: 0.00041940116\n",
      "4800 \\MSE: 0.00014917561\n",
      "4900 \\MSE: 6.0868762e-05\n",
      "5000 \\MSE: 2.5105584e-05\n",
      "5100 \\MSE: 1.0199987e-05\n",
      "5200 \\MSE: 4.199914e-06\n",
      "5300 \\MSE: 1.6304143e-06\n",
      "5400 \\MSE: 7.078611e-07\n",
      "5500 \\MSE: 3.4714998e-07\n",
      "5600 \\MSE: 10.89376\n",
      "5700 \\MSE: 0.006093725\n",
      "5800 \\MSE: 0.0014923709\n",
      "5900 \\MSE: 0.000491953\n",
      "6000 \\MSE: 0.0001676954\n",
      "6100 \\MSE: 5.6941957e-05\n",
      "6200 \\MSE: 1.9859017e-05\n",
      "6300 \\MSE: 6.966996e-06\n",
      "6400 \\MSE: 2.505378e-06\n",
      "6500 \\MSE: 9.5314067e-07\n",
      "6600 \\MSE: 3.7356628e-07\n",
      "6700 \\MSE: 1.4309717e-07\n",
      "6800 \\MSE: 7.5384776e-08\n",
      "6900 \\MSE: 1.5435984e-07\n",
      "7000 \\MSE: 2.562569e-07\n",
      "7100 \\MSE: 1.9376597e-07\n",
      "7200 \\MSE: 0.02958907\n",
      "7300 \\MSE: 0.00032161974\n",
      "7400 \\MSE: 4.8972866e-05\n",
      "7500 \\MSE: 8.531355e-06\n",
      "7600 \\MSE: 1.6154702e-06\n",
      "7700 \\MSE: 3.1066196e-07\n",
      "7800 \\MSE: 8.170949e-07\n",
      "7900 \\MSE: 2.7176657\n",
      "8000 \\MSE: 0.00042530562\n",
      "8100 \\MSE: 1.4450971e-05\n",
      "8200 \\MSE: 1.94619e-06\n",
      "8300 \\MSE: 0.0003780918\n",
      "8400 \\MSE: 0.0005926573\n",
      "8500 \\MSE: 6.673481e-06\n",
      "8600 \\MSE: 9.863475e-07\n",
      "8700 \\MSE: 2.1409971e-07\n",
      "8800 \\MSE: 0.59051424\n",
      "8900 \\MSE: 0.011010724\n",
      "9000 \\MSE: 0.0017530427\n",
      "9100 \\MSE: 0.00038864545\n",
      "9200 \\MSE: 9.432281e-05\n",
      "9300 \\MSE: 2.4058209e-05\n",
      "9400 \\MSE: 6.53401e-06\n",
      "9500 \\MSE: 1.9207027e-06\n",
      "9600 \\MSE: 5.99625e-07\n",
      "9700 \\MSE: 1.9304144e-07\n",
      "9800 \\MSE: 8.5741874e-08\n",
      "9900 \\MSE: 1.1704903e-07\n",
      "[[[ 1.8371612e+00  6.5113670e+01]\n",
      "  [ 3.1640875e+00  7.7811058e+01]\n",
      "  [ 3.9410508e+00  8.0259605e+01]\n",
      "  [ 3.3509672e+00  9.9140511e+01]\n",
      "  [-8.4371403e-02  9.0888878e+01]\n",
      "  [ 2.8714316e+00  8.5642159e+01]\n",
      "  [ 2.8249810e+00  8.1151299e+01]\n",
      "  [ 3.4420104e+00  7.2580116e+01]\n",
      "  [ 5.7015214e+00  9.8880424e+01]\n",
      "  [ 3.6805716e+00  8.7678230e+01]\n",
      "  [ 2.5254121e+00  8.9753410e+01]\n",
      "  [ 2.5153366e-01  9.1931099e+01]\n",
      "  [ 1.6161270e+00  8.6296501e+01]\n",
      "  [ 6.1197138e+00  8.1817558e+01]\n",
      "  [ 3.9660909e+00  7.5962402e+01]\n",
      "  [ 5.8216705e+00  1.0211904e+02]\n",
      "  [ 3.0474248e+00  6.8969337e+01]\n",
      "  [ 2.9941390e+00  8.4129234e+01]\n",
      "  [ 4.3860331e+00  7.2619850e+01]\n",
      "  [ 3.1828318e+00  7.8641846e+01]\n",
      "  [ 3.5602114e+00  8.1006393e+01]\n",
      "  [ 5.7287879e+00  1.0648727e+02]\n",
      "  [ 4.3983574e+00  1.0208763e+02]\n",
      "  [ 4.9260015e+00  1.0220696e+02]\n",
      "  [ 4.5515804e+00  7.8279221e+01]\n",
      "  [ 4.7734976e+00  8.2644615e+01]\n",
      "  [ 4.4135447e+00  8.8267593e+01]\n",
      "  [ 7.0986967e+00  8.8286575e+01]\n",
      "  [ 5.7028036e+00  1.0166806e+02]\n",
      "  [ 6.6333431e-01  8.6901520e+01]]]\n"
     ]
    }
   ],
   "source": [
    "epochs = 10000\n",
    "with tf.Session() as sess:\n",
    "    init.run()\n",
    "    for ep in range(epochs):\n",
    "        sess.run(training_op, feed_dict = {X:x_batches,Y: y_batches})\n",
    "        if ep%100 ==0:\n",
    "                mse = loss.eval(feed_dict={X:x_batches,Y:y_batches})\n",
    "                print(ep, \"\\MSE:\",mse)\n",
    "    y_pred = sess.run(outputs,feed_dict={X: X_test})\n",
    "    print(y_pred)"
   ]
  },
  {
   "cell_type": "code",
   "execution_count": 54,
   "metadata": {},
   "outputs": [
    {
     "data": {
      "image/png": "[encoded data removed]",
      "text/plain": [
       "<matplotlib.figure.Figure at 0x1c42860860>"
      ]
     },
     "metadata": {},
     "output_type": "display_data"
    }
   ],
   "source": [
    "plt.title(\"Forecast Vs Actual\", fontsize=14)\n",
    "plt.plot(pd.Series(np.ravel(Y_test)),\"r.\",markersize = 10, label = \"Actual\")\n",
    "#plt.plot(pd.Series(np.ravel(Y_test)),\"w*\",markersize = 10)\n",
    "\n",
    "plt.plot(pd.Series(np.ravel(y_pred)),\"go\",markersize = 10, label = \"Forecast\")\n",
    "plt.legend(loc= \"upper left\")\n",
    "plt.xlabel(\"Time periods\")\n",
    "plt.show()\n",
    "#Green is forecasted and Red is Actual Data . "
   ]
  },
  {
   "cell_type": "code",
   "execution_count": 42,
   "metadata": {},
   "outputs": [],
   "source": [
    "fcst=pd.Series(np.ravel(y_pred))\n",
    "act=pd.Series(np.ravel(Y_test))"
   ]
  },
  {
   "cell_type": "code",
   "execution_count": 43,
   "metadata": {},
   "outputs": [
    {
     "data": {
      "image/png": "[encoded data removed]",
      "text/plain": [
       "<matplotlib.figure.Figure at 0x1102ff828>"
      ]
     },
     "metadata": {},
     "output_type": "display_data"
    }
   ],
   "source": [
    "\n",
    "fcst.plot(c='g',title = 'Invoices Time Series')\n",
    "act.plot(c='r')\n",
    "\n",
    "plt.show()\n",
    "sess.close()\n",
    "#Green displays forecasted data and Red is actual data . "
   ]
  },
  {
   "cell_type": "code",
   "execution_count": null,
   "metadata": {},
   "outputs": [],
   "source": []
  },
  {
   "cell_type": "code",
   "execution_count": null,
   "metadata": {},
   "outputs": [],
   "source": []
  },
  {
   "cell_type": "code",
   "execution_count": null,
   "metadata": {},
   "outputs": [],
   "source": []
  },
  {
   "cell_type": "code",
   "execution_count": null,
   "metadata": {},
   "outputs": [],
   "source": []
  },
  {
   "cell_type": "code",
   "execution_count": null,
   "metadata": {},
   "outputs": [],
   "source": []
  }
 ],
 "metadata": {
  "kernelspec": {
   "display_name": "Python 3",
   "language": "python",
   "name": "python3"
  },
  "language_info": {
   "codemirror_mode": {
    "name": "ipython",
    "version": 3
   },
   "file_extension": ".py",
   "mimetype": "text/x-python",
   "name": "python",
   "nbconvert_exporter": "python",
   "pygments_lexer": "ipython3",
   "version": "3.6.4"
  }
 },
 "nbformat": 4,
 "nbformat_minor": 2
}
